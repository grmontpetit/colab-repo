{
  "nbformat": 4,
  "nbformat_minor": 0,
  "metadata": {
    "colab": {
      "name": "Week2-Exercice_2.ipynb",
      "version": "0.3.2",
      "provenance": [],
      "include_colab_link": true
    },
    "kernelspec": {
      "name": "python3",
      "display_name": "Python 3"
    }
  },
  "cells": [
    {
      "cell_type": "markdown",
      "metadata": {
        "id": "view-in-github",
        "colab_type": "text"
      },
      "source": [
        "<a href=\"https://colab.research.google.com/github/sniggel/colab-repo/blob/master/Week2_Exercise_2.ipynb\" target=\"_parent\"><img src=\"https://colab.research.google.com/assets/colab-badge.svg\" alt=\"Open In Colab\"/></a>"
      ]
    },
    {
      "metadata": {
        "id": "qzN25-vejO37",
        "colab_type": "code",
        "colab": {
          "base_uri": "https://localhost:8080/",
          "height": 272
        },
        "outputId": "976348b9-e38a-41e1-afec-5e44c9844dfb"
      },
      "cell_type": "code",
      "source": [
        "import tensorflow as tf\n",
        "print(tf.__version__)\n",
        "\n",
        "mnist = tf.keras.datasets.mnist\n",
        "\n",
        "(training_images, training_labels) ,  (test_images, test_labels) = mnist.load_data()\n",
        "\n",
        "training_images = training_images/255.0\n",
        "test_images = test_images/255.0\n",
        "\n",
        "model = tf.keras.models.Sequential([tf.keras.layers.Flatten(),\n",
        "                                    tf.keras.layers.Dense(1024, activation=tf.nn.relu),\n",
        "                                    tf.keras.layers.Dense(10, activation=tf.nn.softmax)])\n",
        "\n",
        "model.compile(optimizer = 'adam',\n",
        "              loss = 'sparse_categorical_crossentropy')\n",
        "\n",
        "model.fit(training_images, training_labels, epochs=5)\n",
        "\n",
        "model.evaluate(test_images, test_labels)\n",
        "\n",
        "classifications = model.predict(test_images)\n",
        "\n",
        "print(classifications[0])\n",
        "print(test_labels[0])\n",
        "\n",
        "## Results: increasing the nb. of neurons increases the time it takes to\n",
        "## complete 1 epoch"
      ],
      "execution_count": 3,
      "outputs": [
        {
          "output_type": "stream",
          "text": [
            "1.13.1\n",
            "Epoch 1/5\n",
            "60000/60000 [==============================] - 27s 449us/sample - loss: 0.1827\n",
            "Epoch 2/5\n",
            "60000/60000 [==============================] - 28s 459us/sample - loss: 0.0763\n",
            "Epoch 3/5\n",
            "60000/60000 [==============================] - 26s 437us/sample - loss: 0.0481\n",
            "Epoch 4/5\n",
            "60000/60000 [==============================] - 27s 443us/sample - loss: 0.0355\n",
            "Epoch 5/5\n",
            "60000/60000 [==============================] - 27s 445us/sample - loss: 0.0263\n",
            "10000/10000 [==============================] - 1s 84us/sample - loss: 0.0728\n",
            "[2.9575656e-10 3.0287676e-08 2.5889889e-07 6.9008041e-05 3.3853172e-12\n",
            " 2.2271456e-10 8.0441816e-12 9.9992931e-01 2.3087138e-08 1.4365691e-06]\n",
            "7\n"
          ],
          "name": "stdout"
        }
      ]
    }
  ]
}