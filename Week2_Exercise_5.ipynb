{
  "nbformat": 4,
  "nbformat_minor": 0,
  "metadata": {
    "colab": {
      "name": "Week2 Exercise 5.ipynb",
      "version": "0.3.2",
      "provenance": [],
      "include_colab_link": true
    },
    "kernelspec": {
      "name": "python3",
      "display_name": "Python 3"
    }
  },
  "cells": [
    {
      "cell_type": "markdown",
      "metadata": {
        "id": "view-in-github",
        "colab_type": "text"
      },
      "source": [
        "<a href=\"https://colab.research.google.com/github/sniggel/colab-repo/blob/master/Week2_Exercise_5.ipynb\" target=\"_parent\"><img src=\"https://colab.research.google.com/assets/colab-badge.svg\" alt=\"Open In Colab\"/></a>"
      ]
    },
    {
      "metadata": {
        "id": "uYpfQ3uIB0DM",
        "colab_type": "code",
        "colab": {
          "base_uri": "https://localhost:8080/",
          "height": 272
        },
        "outputId": "e8c090cb-0d94-43f0-af67-b2c4032d7cf1"
      },
      "cell_type": "code",
      "source": [
        "import tensorflow as tf\n",
        "print(tf.__version__)\n",
        "\n",
        "mnist = tf.keras.datasets.mnist\n",
        "\n",
        "(training_images, training_labels) ,  (test_images, test_labels) = mnist.load_data()\n",
        "\n",
        "training_images = training_images/255.0\n",
        "test_images = test_images/255.0\n",
        "\n",
        "model = tf.keras.models.Sequential([tf.keras.layers.Flatten(),\n",
        "                                    tf.keras.layers.Dense(512, activation=tf.nn.relu),\n",
        "                                    tf.keras.layers.Dense(256, activation=tf.nn.relu),\n",
        "                                    tf.keras.layers.Dense(10, activation=tf.nn.softmax)])\n",
        "\n",
        "model.compile(optimizer = 'adam',\n",
        "              loss = 'sparse_categorical_crossentropy')\n",
        "\n",
        "model.fit(training_images, training_labels, epochs=5)\n",
        "\n",
        "model.evaluate(test_images, test_labels)\n",
        "\n",
        "classifications = model.predict(test_images)\n",
        "\n",
        "print(classifications[0])\n",
        "print(test_labels[0])\n",
        "\n",
        "## Ans: There isn't a significant impact -- because this is relatively\n",
        "## simple data. For far more complex data (including color images to be\n",
        "## classified as flowers that you'll see in the next lesson), extra layers\n",
        "## are often necessary."
      ],
      "execution_count": 3,
      "outputs": [
        {
          "output_type": "stream",
          "text": [
            "1.13.1\n",
            "Epoch 1/5\n",
            "60000/60000 [==============================] - 18s 302us/sample - loss: 0.1849\n",
            "Epoch 2/5\n",
            "60000/60000 [==============================] - 17s 284us/sample - loss: 0.0787\n",
            "Epoch 3/5\n",
            "60000/60000 [==============================] - 17s 287us/sample - loss: 0.0547\n",
            "Epoch 4/5\n",
            "60000/60000 [==============================] - 17s 288us/sample - loss: 0.0411\n",
            "Epoch 5/5\n",
            "60000/60000 [==============================] - 18s 300us/sample - loss: 0.0335\n",
            "10000/10000 [==============================] - 1s 71us/sample - loss: 0.0776\n",
            "[1.9666054e-10 1.4602157e-08 5.6643792e-09 5.9081131e-06 3.1745131e-14\n",
            " 1.1804219e-10 2.0415690e-12 9.9999094e-01 1.2394882e-09 3.1283214e-06]\n",
            "7\n"
          ],
          "name": "stdout"
        }
      ]
    }
  ]
}